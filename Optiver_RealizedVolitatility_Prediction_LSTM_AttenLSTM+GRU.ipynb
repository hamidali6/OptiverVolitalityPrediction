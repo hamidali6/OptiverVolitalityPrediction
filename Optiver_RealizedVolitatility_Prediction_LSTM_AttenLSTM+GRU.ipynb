{
  "cells": [
    {
      "cell_type": "markdown",
      "metadata": {
        "id": "KUyyZizgeutd"
      },
      "source": [
        "# Optiver Realized Volitatliy Prediction\n",
        "\n",
        "## Importing libraries"
      ]
    },
    {
      "cell_type": "code",
      "execution_count": null,
      "metadata": {
        "colab": {
          "base_uri": "https://localhost:8080/",
          "height": 1000
        },
        "id": "q6m3Eb4he2r-",
        "outputId": "66e11d92-60b1-4c32-9660-7edd03d6a855"
      },
      "outputs": [
        {
          "name": "stdout",
          "output_type": "stream",
          "text": [
            "Looking in indexes: https://pypi.org/simple, https://us-python.pkg.dev/colab-wheels/public/simple/\n",
            "Collecting tsfresh\n",
            "  Downloading tsfresh-0.19.0-py2.py3-none-any.whl (97 kB)\n",
            "\u001b[K     |████████████████████████████████| 97 kB 4.6 MB/s \n",
            "\u001b[?25hRequirement already satisfied: numpy>=1.15.1 in /usr/local/lib/python3.7/dist-packages (from tsfresh) (1.21.6)\n",
            "Requirement already satisfied: distributed>=2.11.0 in /usr/local/lib/python3.7/dist-packages (from tsfresh) (2022.2.0)\n",
            "Requirement already satisfied: cloudpickle in /usr/local/lib/python3.7/dist-packages (from tsfresh) (1.5.0)\n",
            "Collecting stumpy>=1.7.2\n",
            "  Downloading stumpy-1.11.1-py3-none-any.whl (136 kB)\n",
            "\u001b[K     |████████████████████████████████| 136 kB 61.6 MB/s \n",
            "\u001b[?25hRequirement already satisfied: dask[dataframe]>=2.9.0 in /usr/local/lib/python3.7/dist-packages (from tsfresh) (2022.2.0)\n",
            "Requirement already satisfied: scipy>=1.2.0 in /usr/local/lib/python3.7/dist-packages (from tsfresh) (1.7.3)\n",
            "Collecting statsmodels>=0.13\n",
            "  Downloading statsmodels-0.13.2-cp37-cp37m-manylinux_2_17_x86_64.manylinux2014_x86_64.whl (9.8 MB)\n",
            "\u001b[K     |████████████████████████████████| 9.8 MB 64.9 MB/s \n",
            "\u001b[?25hRequirement already satisfied: scikit-learn>=0.22.0 in /usr/local/lib/python3.7/dist-packages (from tsfresh) (1.0.2)\n",
            "Requirement already satisfied: tqdm>=4.10.0 in /usr/local/lib/python3.7/dist-packages (from tsfresh) (4.64.1)\n",
            "Requirement already satisfied: patsy>=0.4.1 in /usr/local/lib/python3.7/dist-packages (from tsfresh) (0.5.2)\n",
            "Collecting matrixprofile<2.0.0,>=1.1.10\n",
            "  Downloading matrixprofile-1.1.10-cp37-cp37m-manylinux2010_x86_64.whl (1.1 MB)\n",
            "\u001b[K     |████████████████████████████████| 1.1 MB 52.4 MB/s \n",
            "\u001b[?25hRequirement already satisfied: pandas>=0.25.0 in /usr/local/lib/python3.7/dist-packages (from tsfresh) (1.3.5)\n",
            "Requirement already satisfied: requests>=2.9.1 in /usr/local/lib/python3.7/dist-packages (from tsfresh) (2.23.0)\n",
            "Requirement already satisfied: pyyaml>=5.3.1 in /usr/local/lib/python3.7/dist-packages (from dask[dataframe]>=2.9.0->tsfresh) (6.0)\n",
            "Requirement already satisfied: partd>=0.3.10 in /usr/local/lib/python3.7/dist-packages (from dask[dataframe]>=2.9.0->tsfresh) (1.3.0)\n",
            "Requirement already satisfied: toolz>=0.8.2 in /usr/local/lib/python3.7/dist-packages (from dask[dataframe]>=2.9.0->tsfresh) (0.12.0)\n",
            "Requirement already satisfied: fsspec>=0.6.0 in /usr/local/lib/python3.7/dist-packages (from dask[dataframe]>=2.9.0->tsfresh) (2022.8.2)\n",
            "Requirement already satisfied: packaging>=20.0 in /usr/local/lib/python3.7/dist-packages (from dask[dataframe]>=2.9.0->tsfresh) (21.3)\n",
            "Requirement already satisfied: jinja2 in /usr/local/lib/python3.7/dist-packages (from distributed>=2.11.0->tsfresh) (2.11.3)\n",
            "Requirement already satisfied: msgpack>=0.6.0 in /usr/local/lib/python3.7/dist-packages (from distributed>=2.11.0->tsfresh) (1.0.4)\n",
            "Requirement already satisfied: zict>=0.1.3 in /usr/local/lib/python3.7/dist-packages (from distributed>=2.11.0->tsfresh) (2.2.0)\n",
            "Requirement already satisfied: setuptools in /usr/local/lib/python3.7/dist-packages (from distributed>=2.11.0->tsfresh) (57.4.0)\n",
            "Requirement already satisfied: tblib>=1.6.0 in /usr/local/lib/python3.7/dist-packages (from distributed>=2.11.0->tsfresh) (1.7.0)\n",
            "Requirement already satisfied: tornado>=5 in /usr/local/lib/python3.7/dist-packages (from distributed>=2.11.0->tsfresh) (5.1.1)\n",
            "Requirement already satisfied: sortedcontainers!=2.0.0,!=2.0.1 in /usr/local/lib/python3.7/dist-packages (from distributed>=2.11.0->tsfresh) (2.4.0)\n",
            "Requirement already satisfied: click>=6.6 in /usr/local/lib/python3.7/dist-packages (from distributed>=2.11.0->tsfresh) (7.1.2)\n",
            "Requirement already satisfied: psutil>=5.0 in /usr/local/lib/python3.7/dist-packages (from distributed>=2.11.0->tsfresh) (5.4.8)\n",
            "Requirement already satisfied: matplotlib>=3.0.3 in /usr/local/lib/python3.7/dist-packages (from matrixprofile<2.0.0,>=1.1.10->tsfresh) (3.2.2)\n",
            "Collecting protobuf==3.11.2\n",
            "  Downloading protobuf-3.11.2-cp37-cp37m-manylinux1_x86_64.whl (1.3 MB)\n",
            "\u001b[K     |████████████████████████████████| 1.3 MB 56.6 MB/s \n",
            "\u001b[?25hRequirement already satisfied: six>=1.9 in /usr/local/lib/python3.7/dist-packages (from protobuf==3.11.2->matrixprofile<2.0.0,>=1.1.10->tsfresh) (1.15.0)\n",
            "Requirement already satisfied: cycler>=0.10 in /usr/local/lib/python3.7/dist-packages (from matplotlib>=3.0.3->matrixprofile<2.0.0,>=1.1.10->tsfresh) (0.11.0)\n",
            "Requirement already satisfied: python-dateutil>=2.1 in /usr/local/lib/python3.7/dist-packages (from matplotlib>=3.0.3->matrixprofile<2.0.0,>=1.1.10->tsfresh) (2.8.2)\n",
            "Requirement already satisfied: kiwisolver>=1.0.1 in /usr/local/lib/python3.7/dist-packages (from matplotlib>=3.0.3->matrixprofile<2.0.0,>=1.1.10->tsfresh) (1.4.4)\n",
            "Requirement already satisfied: pyparsing!=2.0.4,!=2.1.2,!=2.1.6,>=2.0.1 in /usr/local/lib/python3.7/dist-packages (from matplotlib>=3.0.3->matrixprofile<2.0.0,>=1.1.10->tsfresh) (3.0.9)\n",
            "Requirement already satisfied: typing-extensions in /usr/local/lib/python3.7/dist-packages (from kiwisolver>=1.0.1->matplotlib>=3.0.3->matrixprofile<2.0.0,>=1.1.10->tsfresh) (4.1.1)\n",
            "Requirement already satisfied: pytz>=2017.3 in /usr/local/lib/python3.7/dist-packages (from pandas>=0.25.0->tsfresh) (2022.2.1)\n",
            "Requirement already satisfied: locket in /usr/local/lib/python3.7/dist-packages (from partd>=0.3.10->dask[dataframe]>=2.9.0->tsfresh) (1.0.0)\n",
            "Requirement already satisfied: idna<3,>=2.5 in /usr/local/lib/python3.7/dist-packages (from requests>=2.9.1->tsfresh) (2.10)\n",
            "Requirement already satisfied: certifi>=2017.4.17 in /usr/local/lib/python3.7/dist-packages (from requests>=2.9.1->tsfresh) (2022.6.15)\n",
            "Requirement already satisfied: urllib3!=1.25.0,!=1.25.1,<1.26,>=1.21.1 in /usr/local/lib/python3.7/dist-packages (from requests>=2.9.1->tsfresh) (1.24.3)\n",
            "Requirement already satisfied: chardet<4,>=3.0.2 in /usr/local/lib/python3.7/dist-packages (from requests>=2.9.1->tsfresh) (3.0.4)\n",
            "Requirement already satisfied: joblib>=0.11 in /usr/local/lib/python3.7/dist-packages (from scikit-learn>=0.22.0->tsfresh) (1.1.0)\n",
            "Requirement already satisfied: threadpoolctl>=2.0.0 in /usr/local/lib/python3.7/dist-packages (from scikit-learn>=0.22.0->tsfresh) (3.1.0)\n",
            "Requirement already satisfied: numba>=0.54 in /usr/local/lib/python3.7/dist-packages (from stumpy>=1.7.2->tsfresh) (0.56.2)\n",
            "Requirement already satisfied: importlib-metadata in /usr/local/lib/python3.7/dist-packages (from numba>=0.54->stumpy>=1.7.2->tsfresh) (4.12.0)\n",
            "Requirement already satisfied: llvmlite<0.40,>=0.39.0dev0 in /usr/local/lib/python3.7/dist-packages (from numba>=0.54->stumpy>=1.7.2->tsfresh) (0.39.1)\n",
            "Requirement already satisfied: heapdict in /usr/local/lib/python3.7/dist-packages (from zict>=0.1.3->distributed>=2.11.0->tsfresh) (1.0.1)\n",
            "Requirement already satisfied: zipp>=0.5 in /usr/local/lib/python3.7/dist-packages (from importlib-metadata->numba>=0.54->stumpy>=1.7.2->tsfresh) (3.8.1)\n",
            "Requirement already satisfied: MarkupSafe>=0.23 in /usr/local/lib/python3.7/dist-packages (from jinja2->distributed>=2.11.0->tsfresh) (2.0.1)\n",
            "Installing collected packages: protobuf, stumpy, statsmodels, matrixprofile, tsfresh\n",
            "  Attempting uninstall: protobuf\n",
            "    Found existing installation: protobuf 3.17.3\n",
            "    Uninstalling protobuf-3.17.3:\n",
            "      Successfully uninstalled protobuf-3.17.3\n",
            "  Attempting uninstall: statsmodels\n",
            "    Found existing installation: statsmodels 0.12.2\n",
            "    Uninstalling statsmodels-0.12.2:\n",
            "      Successfully uninstalled statsmodels-0.12.2\n",
            "\u001b[31mERROR: pip's dependency resolver does not currently take into account all the packages that are installed. This behaviour is the source of the following dependency conflicts.\n",
            "tensorflow-metadata 1.10.0 requires protobuf<4,>=3.13, but you have protobuf 3.11.2 which is incompatible.\n",
            "tensorflow-datasets 4.6.0 requires protobuf>=3.12.2, but you have protobuf 3.11.2 which is incompatible.\n",
            "googleapis-common-protos 1.56.4 requires protobuf<5.0.0dev,>=3.15.0, but you have protobuf 3.11.2 which is incompatible.\n",
            "google-api-core 1.31.6 requires protobuf<4.0.0dev,>=3.12.0; python_version > \"3\", but you have protobuf 3.11.2 which is incompatible.\u001b[0m\n",
            "Successfully installed matrixprofile-1.1.10 protobuf-3.11.2 statsmodels-0.13.2 stumpy-1.11.1 tsfresh-0.19.0\n"
          ]
        },
        {
          "data": {
            "application/vnd.colab-display-data+json": {
              "pip_warning": {
                "packages": [
                  "google"
                ]
              }
            }
          },
          "metadata": {},
          "output_type": "display_data"
        }
      ],
      "source": [
        "pip install tsfresh"
      ]
    },
    {
      "cell_type": "code",
      "execution_count": null,
      "metadata": {
        "id": "423hEn9jM0bk"
      },
      "outputs": [],
      "source": [
        "import numpy as np \n",
        "import pandas as pd \n",
        "import os\n",
        "import gc\n",
        "import glob\n",
        "\n",
        "from itertools import islice\n",
        "#import librosa\n",
        "#from tsfresh.feature_extraction import feature_calculators\n",
        "from multiprocessing import Pool\n",
        "from sklearn.preprocessing import MinMaxScaler, StandardScaler\n",
        "import tensorflow as tf\n",
        "import keras.backend as K\n",
        "from tensorflow.keras.layers import Dense, Lambda, Dot, Activation, Concatenate\n",
        "from tensorflow.keras.layers import Layer\n",
        "from sklearn.model_selection import train_test_split\n",
        "from sklearn.metrics import mean_squared_error, mean_absolute_error, r2_score, explained_variance_score\n",
        "\n",
        "from tqdm.auto import tqdm\n",
        "tqdm.pandas()\n",
        "import matplotlib.pyplot as plt\n",
        "import warnings\n",
        "warnings.filterwarnings('ignore')"
      ]
    },
    {
      "cell_type": "code",
      "execution_count": null,
      "metadata": {
        "id": "2tRzD-hmgbP-"
      },
      "outputs": [],
      "source": [
        "# setting some globl config\n",
        "\n",
        "plt.style.use('ggplot')\n",
        "orange_black = [\n",
        "    '#fdc029', '#df861d', '#FF6347', '#aa3d01', '#a30e15', '#800000', '#171820'\n",
        "]\n",
        "plt.rcParams['figure.figsize'] = (16,9)\n",
        "plt.rcParams[\"figure.facecolor\"] = '#FFFACD'\n",
        "plt.rcParams[\"axes.facecolor\"] = '#FFFFE0'\n",
        "plt.rcParams[\"axes.grid\"] = True\n",
        "plt.rcParams[\"grid.color\"] = orange_black[3]\n",
        "plt.rcParams[\"grid.alpha\"] = 0.5\n",
        "plt.rcParams[\"grid.linestyle\"] = '--'\n",
        "\n",
        "\n",
        "import warnings\n",
        "warnings.filterwarnings(\"ignore\")"
      ]
    },
    {
      "cell_type": "code",
      "execution_count": null,
      "metadata": {
        "colab": {
          "base_uri": "https://localhost:8080/"
        },
        "id": "OAjf5BtAM2-Z",
        "outputId": "540588ae-412a-480c-c378-a398a1909e0d"
      },
      "outputs": [
        {
          "output_type": "stream",
          "name": "stdout",
          "text": [
            "Mounted at /content/drive/\n"
          ]
        }
      ],
      "source": [
        "from google.colab import drive\n",
        "drive.mount('/content/drive/')"
      ]
    },
    {
      "cell_type": "markdown",
      "metadata": {
        "id": "asj9c_Gve51W"
      },
      "source": [
        "## Paths"
      ]
    },
    {
      "cell_type": "code",
      "execution_count": null,
      "metadata": {
        "id": "oHxKz4qEM665"
      },
      "outputs": [],
      "source": [
        "data_dir = '/content/drive/MyDrive/Optiver_Volatility'\n",
        "book_path = '/content/drive/MyDrive/Optiver_Volatility/book_train.parquet'\n",
        "trade_path = '/content/drive/MyDrive/Optiver_Volatility/trade_train.parquet'\n",
        "CHECKPOINT = './model_checkpoint/model_01'"
      ]
    },
    {
      "cell_type": "code",
      "execution_count": null,
      "metadata": {
        "id": "quO8bPFTNLvq"
      },
      "outputs": [],
      "source": [
        "bucket_win = [(0,   100), (100, 200), (200, 300), (300, 400), (400, 500), (500, 600)]\n",
        "skip_features = ['time_id', 'row_id', 'target']"
      ]
    },
    {
      "cell_type": "code",
      "execution_count": null,
      "metadata": {
        "id": "zahHcarPNdU5"
      },
      "outputs": [],
      "source": [
        "def path_dir(path, csv):\n",
        "\n",
        "    path_dic = {}\n",
        "    for i in tqdm(csv):\n",
        "        parquet_path = f'{path}/stock_id={i}'\n",
        "        path_list = glob.glob(os.path.join(parquet_path, '*.parquet'))\n",
        "    \n",
        "        if len(path_list) > 0:\n",
        "            path_dic[i] = path_list[0]\n",
        "    \n",
        "    return path_dic"
      ]
    },
    {
      "cell_type": "code",
      "execution_count": null,
      "metadata": {
        "id": "ytFr9evEOCTw"
      },
      "outputs": [],
      "source": [
        "train_dic = pd.read_csv(os.path.join(data_dir, 'train.csv'))"
      ]
    },
    {
      "cell_type": "code",
      "execution_count": null,
      "metadata": {
        "colab": {
          "base_uri": "https://localhost:8080/"
        },
        "id": "BrOHot_OOLMI",
        "outputId": "d12abdbd-7525-4fb1-8628-a5cd37a2d739"
      },
      "outputs": [
        {
          "output_type": "stream",
          "name": "stdout",
          "text": [
            "Train dataset shape: (428932, 3)\n"
          ]
        }
      ],
      "source": [
        "print(f'Train dataset shape: {train_dic.shape}')"
      ]
    },
    {
      "cell_type": "code",
      "execution_count": null,
      "metadata": {
        "id": "gL_KTeKuORNU"
      },
      "outputs": [],
      "source": [
        "train_dic['row_id'] = train_dic['stock_id'].astype(str) + '-' + train_dic['time_id'].astype(str)"
      ]
    },
    {
      "cell_type": "code",
      "execution_count": null,
      "metadata": {
        "colab": {
          "base_uri": "https://localhost:8080/",
          "height": 81,
          "referenced_widgets": [
            "9dc8a504e150467f86cb4caf29699690",
            "1929b4f775814d0899c6bc03667351e1",
            "2ce9cf106207412d98c3b132df7b3fe2",
            "f4fd4a608d4442b78c39c11aea54a392",
            "3e13ea86a8af49c495c717dc2d43db79",
            "0820b0ed50f842b2b5f7bf235dcd777f",
            "b0ed8c1a986345af877ab498715d050d",
            "34592342cc234902ae13b74d618d524f",
            "e3f882e3868840d6b0dc39b42ed23335",
            "86fc430e2d274a3988c78b503d824258",
            "a3df3ebc37d44e8b90e50ae2169b0833",
            "1a627f6149674f66a858982286bdbff1",
            "4c618e3b8680440d9c00b15b7c051fc0",
            "5f3d900c0a894b18b9e11208db732ce3",
            "164f38658f8c40ffb42e0a5d5cd8eb74",
            "acd182b3b81a48689f9f134f08b5d1fb",
            "4158c67e67974723afcb228e1b6709cb",
            "c1b5bc7ac2274005bc433f8aaab39965",
            "f008bd5d0853431d93320056e5d5a364",
            "25ffd890ec9748eba6bbed6acb81d269",
            "ced3ffd8a80e4fefbfcd758de255424f",
            "68565720687945e8b902f3633b91a2ce"
          ]
        },
        "id": "odvsjGrNOXc0",
        "outputId": "61446ef4-ad9c-452c-a1dc-4b529e55d24b"
      },
      "outputs": [
        {
          "output_type": "display_data",
          "data": {
            "text/plain": [
              "  0%|          | 0/112 [00:00<?, ?it/s]"
            ],
            "application/vnd.jupyter.widget-view+json": {
              "version_major": 2,
              "version_minor": 0,
              "model_id": "9dc8a504e150467f86cb4caf29699690"
            }
          },
          "metadata": {}
        },
        {
          "output_type": "display_data",
          "data": {
            "text/plain": [
              "  0%|          | 0/112 [00:00<?, ?it/s]"
            ],
            "application/vnd.jupyter.widget-view+json": {
              "version_major": 2,
              "version_minor": 0,
              "model_id": "1a627f6149674f66a858982286bdbff1"
            }
          },
          "metadata": {}
        }
      ],
      "source": [
        "book_train_dic = path_dir(book_path, train_dic['stock_id'].unique())\n",
        "trade_train_dic = path_dir(trade_path, train_dic['stock_id'].unique())"
      ]
    },
    {
      "cell_type": "markdown",
      "metadata": {
        "id": "oTLmrWbSe9eF"
      },
      "source": [
        "## Feature Engineering"
      ]
    },
    {
      "cell_type": "code",
      "execution_count": null,
      "metadata": {
        "id": "Kj5B059oOwzQ"
      },
      "outputs": [],
      "source": [
        "def wap1(df):\n",
        "    wap = (df['bid_price1'] * df['ask_size1'] + df['ask_price1'] * df['bid_size1']) / (df['bid_size1'] + df['ask_size1'])\n",
        "    return wap\n",
        "\n",
        "def wap2(df):\n",
        "    wap = (df['bid_price2'] * df['ask_size2'] + df['ask_price2'] * df['bid_size2']) / (df['bid_size2'] + df['ask_size2'])\n",
        "    return wap\n",
        "\n",
        "def wap3(df):\n",
        "    wap = (df['bid_price1'] * df['bid_size1'] + df['ask_price1'] * df['ask_size1']) / (df['bid_size1'] + df['ask_size1'])\n",
        "    return wap\n",
        "\n",
        "def wap4(df):\n",
        "    wap = (df['bid_price2'] * df['bid_size2'] + df['ask_price2'] * df['ask_size2']) / (df['bid_size2'] + df['ask_size2'])\n",
        "    return wap\n",
        "\n",
        "def roll_mean(df, col, window_size):\n",
        "    rolling_mean = df[col].rolling(window=window_size).mean()\n",
        "    return rolling_mean\n",
        "\n",
        "def roll_std(df, col, window_size):\n",
        "    rolling_std = df[col].rolling(window=window_size).std()\n",
        "    return rolling_std\n",
        "\n",
        "def roll_memw(df, col):\n",
        "    rolling_memw = df[col].ewm(span=10).mean()\n",
        "    return rolling_memw\n",
        "\n",
        "def log(series):\n",
        "    return np.log(series).diff()\n",
        "\n",
        "def realized_volatility(series):\n",
        "    return np.sqrt(np.sum(series**2))\n",
        "\n",
        "def count_unique(series):\n",
        "    return len(np.unique(series))"
      ]
    },
    {
      "cell_type": "markdown",
      "metadata": {
        "id": "AvT3J0gWfBFd"
      },
      "source": [
        "## Book Train parquet Feature Engineering"
      ]
    },
    {
      "cell_type": "code",
      "execution_count": null,
      "metadata": {
        "id": "b6RhDF9xPXLQ"
      },
      "outputs": [],
      "source": [
        "def book_feature(book_data):\n",
        "    # Calculate Weighted average price and log return\n",
        "    book_data['wap1'] = wap1(book_data)\n",
        "    book_data['wap2'] = wap2(book_data)\n",
        "    book_data['log1'] = book_data.groupby(['time_id'])['wap1'].apply(log)\n",
        "    book_data['log2'] = book_data.groupby(['time_id'])['wap2'].apply(log)\n",
        "    \n",
        "    # Calculate weighted average price balance\n",
        "    book_data['wap_balance'] = abs(book_data['wap1'] - book_data['wap2'])\n",
        "    \n",
        "    # Calculate Ask and bid spread\n",
        "    book_data['price_spread'] = (book_data['ask_price1'] - book_data['bid_price1']) / ((book_data['ask_price1'] + book_data['bid_price1']) / 2)\n",
        "    book_data['price_spread2'] = (book_data['ask_price2'] - book_data['bid_price2']) / ((book_data['ask_price2'] + book_data['bid_price2']) / 2)\n",
        "    \n",
        "    book_data['bid_spread'] = book_data['bid_price1'] - book_data['bid_price2']\n",
        "    book_data['ask_spread'] = book_data['ask_price1'] - book_data['ask_price2']\n",
        "    book_data[\"bid_ask_spread\"] = abs(book_data['bid_spread'] - book_data['ask_spread'])\n",
        "    \n",
        "    book_data['total_volume'] = (book_data['ask_size1'] + book_data['ask_size2']) + (book_data['bid_size1'] + book_data['bid_size2'])\n",
        "    book_data['volume_imbalance'] = abs((book_data['ask_size1'] + book_data['ask_size2']) - (book_data['bid_size1'] + book_data['bid_size2']))\n",
        "    \n",
        "    # calculate mean of features and weighted average price mean\n",
        "    window = 10\n",
        "    bid_price1_ma = roll_mean(book_data, 'bid_price1', window)\n",
        "    ask_size1_ma = roll_mean(book_data, 'ask_size1', window)\n",
        "    ask_price1_ma = roll_mean(book_data, 'ask_price1', window)\n",
        "    bid_size1_ma = roll_mean(book_data, 'bid_size1', window)\n",
        "    \n",
        "    bid_price2_ma = roll_mean(book_data, 'bid_price2', window)\n",
        "    ask_size2_ma = roll_mean(book_data, 'ask_size2', window)\n",
        "    ask_price2_ma = roll_mean(book_data, 'ask_price2', window)\n",
        "    bid_size2_ma = roll_mean(book_data, 'bid_size2', window)\n",
        "    \n",
        "    book_data['wap1_ma'] = (bid_price1_ma * ask_size1_ma + ask_price1_ma * bid_size1_ma) / (bid_size1_ma + ask_size1_ma)\n",
        "    book_data['wap2_ma'] = (bid_price2_ma * ask_size2_ma + ask_price2_ma * bid_size2_ma) / (bid_size2_ma + ask_size2_ma)\n",
        "    \n",
        "    return book_data"
      ]
    },
    {
      "cell_type": "markdown",
      "metadata": {
        "id": "xTSMTYyefFrF"
      },
      "source": [
        "## Trade Train parquet Feature Engineering"
      ]
    },
    {
      "cell_type": "code",
      "execution_count": null,
      "metadata": {
        "id": "oA-o4NOZQpcw"
      },
      "outputs": [],
      "source": [
        "def trade_features(trade_data):\n",
        "    trade_data['log_return'] = trade_data.groupby('time_id')['price'].apply(log)\n",
        "    trade_data['amount'] = trade_data['price'] * trade_data['size']\n",
        "    return trade_data"
      ]
    },
    {
      "cell_type": "code",
      "execution_count": null,
      "metadata": {
        "id": "JYhDUlplR6NA"
      },
      "outputs": [],
      "source": [
        "# ''' MFCC coefficients contain information about the rate changes in the different spectrum bands '''\n",
        "# def mfcc_coeff(feature):\n",
        "#     mfcc_coeff = np.zeros((1, feature.shape[1]))\n",
        "#     for i in range(feature.shape[1]):\n",
        "#         mfcc = librosa.feature.mfcc(feature[:, i])\n",
        "#         mfcc_mean = mfcc.mean(axis=1)\n",
        "#         mfcc_coeff[:, i] = mfcc_mean[1]\n",
        "#     return mfcc_coeff"
      ]
    },
    {
      "cell_type": "code",
      "execution_count": null,
      "metadata": {
        "id": "QF3tTu28SVB_"
      },
      "outputs": [],
      "source": [
        "# def peaks(a):\n",
        "#     peaks = np.zeros((1, a.shape[1]))\n",
        "#     for i in range(a.shape[1]):\n",
        "#         peaks[:, i] = feature_calculators.number_peaks(a[:, i], 2)\n",
        "#     return peaks"
      ]
    },
    {
      "cell_type": "markdown",
      "metadata": {
        "id": "H45zBIPxfKH9"
      },
      "source": [
        "## Computing Statistics of Data"
      ]
    },
    {
      "cell_type": "code",
      "execution_count": null,
      "metadata": {
        "id": "saebm1YLSreP"
      },
      "outputs": [],
      "source": [
        "bucket_size = [(0,   100), (100, 200), (200, 300), (300, 400), (400, 500), (500, 600)]\n",
        "def seq_statistics(series, seconds):\n",
        "    ''' a - array, s - seconds_in_bucket'''\n",
        "    \n",
        "    seq_stat = []\n",
        "    for w in bucket_size:\n",
        "        indexes = np.where(np.logical_and(seconds >= w[0], seconds < w[1]))[0]\n",
        "       \n",
        "        seq_min = np.zeros((1, series.shape[1]))\n",
        "        seq_max = np.zeros((1, series.shape[1]))\n",
        "        seq_mean = np.zeros((1, series.shape[1]))\n",
        "        seq_std = np.zeros((1, series.shape[1]))\n",
        "        seq_median = np.zeros((1, series.shape[1]))\n",
        "        seq_sum = np.zeros((1, series.shape[1]))\n",
        "        \n",
        "        if series[indexes].shape[0] > 0:\n",
        "            seq_min = np.min(series[indexes], axis=0, keepdims=True)\n",
        "            seq_max = np.max(series[indexes], axis=0, keepdims=True)\n",
        "            seq_mean = np.mean(series[indexes], axis=0, keepdims=True)\n",
        "            seq_std = np.std(series[indexes], axis=0, keepdims=True)\n",
        "            seq_median = np.median(series[indexes], axis=0, keepdims=True)\n",
        "            seq_sum = np.sum(series[indexes], axis=0, keepdims=True)\n",
        "            \n",
        "        seq_stat.append(np.concatenate((seq_min, seq_max, seq_mean, seq_std, seq_median, seq_sum), axis=0))\n",
        "        \n",
        "    return np.nan_to_num(np.concatenate(seq_stat, axis=0).transpose())"
      ]
    },
    {
      "cell_type": "markdown",
      "metadata": {
        "id": "5xqVb8CqfPr-"
      },
      "source": [
        "## Optiver Dataset Preprocessing"
      ]
    },
    {
      "cell_type": "code",
      "execution_count": null,
      "metadata": {
        "id": "3XdQUkMwT2YI"
      },
      "outputs": [],
      "source": [
        "def optiver_preprocessing(ds, path_dic, fe_func, skip_features, train_flg=True):\n",
        "    \n",
        "    X = []\n",
        "    Y = []\n",
        "    \n",
        "    for stock_id, stock_path in tqdm(path_dic.items()):\n",
        "\n",
        "        optiver_ds = pd.read_parquet(stock_path)\n",
        "        optiver_ds['row_id'] = str(stock_id) + '-' + optiver_ds['time_id'].astype(str)\n",
        "\n",
        "        sds = ds[ds['stock_id'] == stock_id]\n",
        "\n",
        "        cols = ['time_id', 'target']\n",
        "        if train_flg == False:\n",
        "            cols = ['time_id']\n",
        "            \n",
        "        merge_ds = pd.merge(sds[cols], optiver_ds, on='time_id', how='left')\n",
        "        merge_ds = fe_func(merge_ds).fillna(0)\n",
        "        \n",
        "        cols = [c for c in merge_ds.columns if c not in skip_features]\n",
        "\n",
        "        np_ds = merge_ds[cols].to_numpy(dtype=np.float16)\n",
        "        seconds_in_bucket = merge_ds['seconds_in_bucket'].to_numpy()\n",
        "        g_idx = merge_ds[['time_id']].to_numpy()\n",
        "        \n",
        "        l = np.unique(g_idx, return_index=True)[1][1:]        \n",
        "        a_list = np.split(np_ds, l)\n",
        "        s_list = np.split(seconds_in_bucket, l)\n",
        "\n",
        "        stat = list(map(seq_statistics, a_list, s_list))\n",
        "        b = np.transpose(np.dstack(stat), (2, 1, 0))\n",
        "        b = b.astype(np.float16)\n",
        "        \n",
        "        r = []\n",
        "        if train_flg:\n",
        "            targets = merge_ds[['target']].to_numpy(dtype=np.float16)\n",
        "            t_list = np.split(targets, l)\n",
        "            r = [t[0][0] for t in t_list]\n",
        "        \n",
        "        X.append(b)\n",
        "        Y.append(r)\n",
        "        #break\n",
        "    return X, Y"
      ]
    },
    {
      "cell_type": "markdown",
      "metadata": {
        "id": "-dGmHJM5fSkR"
      },
      "source": [
        "## Preprocessing of Chunks"
      ]
    },
    {
      "cell_type": "code",
      "execution_count": null,
      "metadata": {
        "id": "-OGPmmvxVyxA"
      },
      "outputs": [],
      "source": [
        "def chunks(data, SIZE=10000):\n",
        "    it = iter(data)\n",
        "    for i in range(0, len(data), SIZE):\n",
        "        yield {k:data[k] for k in islice(it, SIZE)}\n",
        "        \n",
        "def book_train_preprocessing(chunk_ds):\n",
        "    return optiver_preprocessing(train_dic, chunk_ds, book_feature, skip_features)\n",
        "def trade_train_preprocessing(chunk_ds):\n",
        "    return optiver_preprocessing(train_dic, chunk_ds, trade_features, skip_features)"
      ]
    },
    {
      "cell_type": "code",
      "execution_count": null,
      "metadata": {
        "id": "HLzmz76WWzm-"
      },
      "outputs": [],
      "source": [
        "n_thread = 4\n",
        "book_train_chunks = [i for i in chunks(book_train_dic, int(len(book_train_dic)/n_thread))]\n",
        "trade_train_chunks = [i for i in chunks(trade_train_dic, int(len(trade_train_dic)/n_thread))]"
      ]
    },
    {
      "cell_type": "markdown",
      "metadata": {
        "id": "qeZrAKNafWFP"
      },
      "source": [
        "## MultiProcessing"
      ]
    },
    {
      "cell_type": "code",
      "execution_count": null,
      "metadata": {
        "colab": {
          "base_uri": "https://localhost:8080/",
          "height": 1000
        },
        "id": "UBIuQKQSXakP",
        "outputId": "f2678eb5-3b0e-4116-aadc-f7ad8c91d563"
      },
      "outputs": [
        {
          "output_type": "stream",
          "name": "stderr",
          "text": [
            "Process ForkPoolWorker-2:\n",
            "Process ForkPoolWorker-1:\n",
            "Process ForkPoolWorker-3:\n",
            "Traceback (most recent call last):\n",
            "Traceback (most recent call last):\n",
            "Traceback (most recent call last):\n",
            "  File \"/usr/lib/python3.7/multiprocessing/process.py\", line 297, in _bootstrap\n",
            "    self.run()\n",
            "  File \"/usr/lib/python3.7/multiprocessing/process.py\", line 297, in _bootstrap\n",
            "    self.run()\n",
            "  File \"/usr/lib/python3.7/multiprocessing/process.py\", line 297, in _bootstrap\n",
            "    self.run()\n",
            "  File \"/usr/lib/python3.7/multiprocessing/process.py\", line 99, in run\n",
            "    self._target(*self._args, **self._kwargs)\n",
            "  File \"/usr/lib/python3.7/multiprocessing/process.py\", line 99, in run\n",
            "    self._target(*self._args, **self._kwargs)\n",
            "Process ForkPoolWorker-4:\n",
            "  File \"/usr/lib/python3.7/multiprocessing/process.py\", line 99, in run\n",
            "    self._target(*self._args, **self._kwargs)\n",
            "  File \"/usr/lib/python3.7/multiprocessing/pool.py\", line 121, in worker\n",
            "    result = (True, func(*args, **kwds))\n",
            "  File \"/usr/lib/python3.7/multiprocessing/pool.py\", line 121, in worker\n",
            "    result = (True, func(*args, **kwds))\n",
            "Traceback (most recent call last):\n",
            "  File \"/usr/lib/python3.7/multiprocessing/pool.py\", line 121, in worker\n",
            "    result = (True, func(*args, **kwds))\n",
            "  File \"/usr/lib/python3.7/multiprocessing/pool.py\", line 44, in mapstar\n",
            "    return list(map(*args))\n",
            "  File \"/usr/lib/python3.7/multiprocessing/process.py\", line 297, in _bootstrap\n",
            "    self.run()\n",
            "  File \"/usr/lib/python3.7/multiprocessing/pool.py\", line 44, in mapstar\n",
            "    return list(map(*args))\n",
            "  File \"/usr/lib/python3.7/multiprocessing/pool.py\", line 44, in mapstar\n",
            "    return list(map(*args))\n",
            "  File \"<ipython-input-19-ac97522807fc>\", line 7, in book_train_preprocessing\n",
            "    return optiver_preprocessing(train_dic, chunk_ds, book_feature, skip_features)\n",
            "  File \"<ipython-input-19-ac97522807fc>\", line 7, in book_train_preprocessing\n",
            "    return optiver_preprocessing(train_dic, chunk_ds, book_feature, skip_features)\n",
            "  File \"/usr/lib/python3.7/multiprocessing/process.py\", line 99, in run\n",
            "    self._target(*self._args, **self._kwargs)\n",
            "  File \"<ipython-input-19-ac97522807fc>\", line 7, in book_train_preprocessing\n",
            "    return optiver_preprocessing(train_dic, chunk_ds, book_feature, skip_features)\n",
            "  File \"/usr/lib/python3.7/multiprocessing/pool.py\", line 121, in worker\n",
            "    result = (True, func(*args, **kwds))\n",
            "  File \"<ipython-input-18-dc31cc8a2e28>\", line 30, in optiver_preprocessing\n",
            "    stat = list(map(seq_statistics, a_list, s_list))\n",
            "  File \"<ipython-input-18-dc31cc8a2e28>\", line 30, in optiver_preprocessing\n",
            "    stat = list(map(seq_statistics, a_list, s_list))\n",
            "  File \"<ipython-input-17-a416ae84ffb7>\", line 17, in seq_statistics\n",
            "    seq_min = np.min(series[indexes], axis=0, keepdims=True)\n",
            "  File \"/usr/lib/python3.7/multiprocessing/pool.py\", line 44, in mapstar\n",
            "    return list(map(*args))\n",
            "  File \"<ipython-input-18-dc31cc8a2e28>\", line 30, in optiver_preprocessing\n",
            "    stat = list(map(seq_statistics, a_list, s_list))\n",
            "  File \"<ipython-input-17-a416ae84ffb7>\", line 21, in seq_statistics\n",
            "    seq_median = np.median(series[indexes], axis=0, keepdims=True)\n",
            "  File \"<__array_function__ internals>\", line 6, in amin\n",
            "  File \"<ipython-input-17-a416ae84ffb7>\", line 20, in seq_statistics\n",
            "    seq_std = np.std(series[indexes], axis=0, keepdims=True)\n",
            "  File \"<__array_function__ internals>\", line 6, in median\n",
            "  File \"<ipython-input-19-ac97522807fc>\", line 7, in book_train_preprocessing\n",
            "    return optiver_preprocessing(train_dic, chunk_ds, book_feature, skip_features)\n",
            "  File \"/usr/local/lib/python3.7/dist-packages/numpy/core/fromnumeric.py\", line 2880, in amin\n",
            "    keepdims=keepdims, initial=initial, where=where)\n",
            "  File \"<__array_function__ internals>\", line 6, in std\n",
            "  File \"<ipython-input-18-dc31cc8a2e28>\", line 30, in optiver_preprocessing\n",
            "    stat = list(map(seq_statistics, a_list, s_list))\n",
            "  File \"/usr/local/lib/python3.7/dist-packages/numpy/core/fromnumeric.py\", line 86, in _wrapreduction\n",
            "    return ufunc.reduce(obj, axis, dtype, out, **passkwargs)\n",
            "  File \"/usr/local/lib/python3.7/dist-packages/numpy/core/fromnumeric.py\", line 3582, in std\n",
            "    **kwargs)\n",
            "  File \"/usr/local/lib/python3.7/dist-packages/numpy/lib/function_base.py\", line 3656, in median\n",
            "    overwrite_input=overwrite_input)\n",
            "KeyboardInterrupt\n",
            "  File \"/usr/local/lib/python3.7/dist-packages/numpy/core/_methods.py\", line 263, in _std\n",
            "    keepdims=keepdims, where=where)\n",
            "  File \"<ipython-input-17-a416ae84ffb7>\", line 19, in seq_statistics\n",
            "    seq_mean = np.mean(series[indexes], axis=0, keepdims=True)\n",
            "  File \"/usr/local/lib/python3.7/dist-packages/numpy/lib/function_base.py\", line 3544, in _ureduce\n",
            "    axis = _nx.normalize_axis_tuple(axis, nd)\n",
            "  File \"/usr/local/lib/python3.7/dist-packages/numpy/core/_methods.py\", line 212, in _var\n",
            "    arrmean = umr_sum(arr, axis, dtype, keepdims=True, where=where)\n",
            "  File \"/usr/local/lib/python3.7/dist-packages/numpy/core/numeric.py\", line 1385, in normalize_axis_tuple\n",
            "    axis = tuple([normalize_axis_index(ax, ndim, argname) for ax in axis])\n",
            "  File \"<__array_function__ internals>\", line 6, in mean\n",
            "KeyboardInterrupt\n",
            "  File \"/usr/local/lib/python3.7/dist-packages/numpy/core/fromnumeric.py\", line 3441, in mean\n",
            "    out=out, **kwargs)\n",
            "  File \"/usr/local/lib/python3.7/dist-packages/numpy/core/numeric.py\", line 1385, in <listcomp>\n",
            "    axis = tuple([normalize_axis_index(ax, ndim, argname) for ax in axis])\n",
            "  File \"/usr/local/lib/python3.7/dist-packages/numpy/core/_methods.py\", line 179, in _mean\n",
            "    ret = umr_sum(arr, axis, dtype, out, keepdims, where=where)\n",
            "KeyboardInterrupt\n",
            "KeyboardInterrupt\n"
          ]
        },
        {
          "output_type": "error",
          "ename": "KeyboardInterrupt",
          "evalue": "ignored",
          "traceback": [
            "\u001b[0;31m---------------------------------------------------------------------------\u001b[0m",
            "\u001b[0;31mKeyboardInterrupt\u001b[0m                         Traceback (most recent call last)",
            "\u001b[0;32m<timed exec>\u001b[0m in \u001b[0;36m<module>\u001b[0;34m\u001b[0m\n",
            "\u001b[0;32m/usr/lib/python3.7/multiprocessing/pool.py\u001b[0m in \u001b[0;36mmap\u001b[0;34m(self, func, iterable, chunksize)\u001b[0m\n\u001b[1;32m    266\u001b[0m         \u001b[0;32min\u001b[0m \u001b[0ma\u001b[0m \u001b[0mlist\u001b[0m \u001b[0mthat\u001b[0m \u001b[0;32mis\u001b[0m \u001b[0mreturned\u001b[0m\u001b[0;34m.\u001b[0m\u001b[0;34m\u001b[0m\u001b[0;34m\u001b[0m\u001b[0m\n\u001b[1;32m    267\u001b[0m         '''\n\u001b[0;32m--> 268\u001b[0;31m         \u001b[0;32mreturn\u001b[0m \u001b[0mself\u001b[0m\u001b[0;34m.\u001b[0m\u001b[0m_map_async\u001b[0m\u001b[0;34m(\u001b[0m\u001b[0mfunc\u001b[0m\u001b[0;34m,\u001b[0m \u001b[0miterable\u001b[0m\u001b[0;34m,\u001b[0m \u001b[0mmapstar\u001b[0m\u001b[0;34m,\u001b[0m \u001b[0mchunksize\u001b[0m\u001b[0;34m)\u001b[0m\u001b[0;34m.\u001b[0m\u001b[0mget\u001b[0m\u001b[0;34m(\u001b[0m\u001b[0;34m)\u001b[0m\u001b[0;34m\u001b[0m\u001b[0;34m\u001b[0m\u001b[0m\n\u001b[0m\u001b[1;32m    269\u001b[0m \u001b[0;34m\u001b[0m\u001b[0m\n\u001b[1;32m    270\u001b[0m     \u001b[0;32mdef\u001b[0m \u001b[0mstarmap\u001b[0m\u001b[0;34m(\u001b[0m\u001b[0mself\u001b[0m\u001b[0;34m,\u001b[0m \u001b[0mfunc\u001b[0m\u001b[0;34m,\u001b[0m \u001b[0miterable\u001b[0m\u001b[0;34m,\u001b[0m \u001b[0mchunksize\u001b[0m\u001b[0;34m=\u001b[0m\u001b[0;32mNone\u001b[0m\u001b[0;34m)\u001b[0m\u001b[0;34m:\u001b[0m\u001b[0;34m\u001b[0m\u001b[0;34m\u001b[0m\u001b[0m\n",
            "\u001b[0;32m/usr/lib/python3.7/multiprocessing/pool.py\u001b[0m in \u001b[0;36mget\u001b[0;34m(self, timeout)\u001b[0m\n\u001b[1;32m    649\u001b[0m \u001b[0;34m\u001b[0m\u001b[0m\n\u001b[1;32m    650\u001b[0m     \u001b[0;32mdef\u001b[0m \u001b[0mget\u001b[0m\u001b[0;34m(\u001b[0m\u001b[0mself\u001b[0m\u001b[0;34m,\u001b[0m \u001b[0mtimeout\u001b[0m\u001b[0;34m=\u001b[0m\u001b[0;32mNone\u001b[0m\u001b[0;34m)\u001b[0m\u001b[0;34m:\u001b[0m\u001b[0;34m\u001b[0m\u001b[0;34m\u001b[0m\u001b[0m\n\u001b[0;32m--> 651\u001b[0;31m         \u001b[0mself\u001b[0m\u001b[0;34m.\u001b[0m\u001b[0mwait\u001b[0m\u001b[0;34m(\u001b[0m\u001b[0mtimeout\u001b[0m\u001b[0;34m)\u001b[0m\u001b[0;34m\u001b[0m\u001b[0;34m\u001b[0m\u001b[0m\n\u001b[0m\u001b[1;32m    652\u001b[0m         \u001b[0;32mif\u001b[0m \u001b[0;32mnot\u001b[0m \u001b[0mself\u001b[0m\u001b[0;34m.\u001b[0m\u001b[0mready\u001b[0m\u001b[0;34m(\u001b[0m\u001b[0;34m)\u001b[0m\u001b[0;34m:\u001b[0m\u001b[0;34m\u001b[0m\u001b[0;34m\u001b[0m\u001b[0m\n\u001b[1;32m    653\u001b[0m             \u001b[0;32mraise\u001b[0m \u001b[0mTimeoutError\u001b[0m\u001b[0;34m\u001b[0m\u001b[0;34m\u001b[0m\u001b[0m\n",
            "\u001b[0;32m/usr/lib/python3.7/multiprocessing/pool.py\u001b[0m in \u001b[0;36mwait\u001b[0;34m(self, timeout)\u001b[0m\n\u001b[1;32m    646\u001b[0m \u001b[0;34m\u001b[0m\u001b[0m\n\u001b[1;32m    647\u001b[0m     \u001b[0;32mdef\u001b[0m \u001b[0mwait\u001b[0m\u001b[0;34m(\u001b[0m\u001b[0mself\u001b[0m\u001b[0;34m,\u001b[0m \u001b[0mtimeout\u001b[0m\u001b[0;34m=\u001b[0m\u001b[0;32mNone\u001b[0m\u001b[0;34m)\u001b[0m\u001b[0;34m:\u001b[0m\u001b[0;34m\u001b[0m\u001b[0;34m\u001b[0m\u001b[0m\n\u001b[0;32m--> 648\u001b[0;31m         \u001b[0mself\u001b[0m\u001b[0;34m.\u001b[0m\u001b[0m_event\u001b[0m\u001b[0;34m.\u001b[0m\u001b[0mwait\u001b[0m\u001b[0;34m(\u001b[0m\u001b[0mtimeout\u001b[0m\u001b[0;34m)\u001b[0m\u001b[0;34m\u001b[0m\u001b[0;34m\u001b[0m\u001b[0m\n\u001b[0m\u001b[1;32m    649\u001b[0m \u001b[0;34m\u001b[0m\u001b[0m\n\u001b[1;32m    650\u001b[0m     \u001b[0;32mdef\u001b[0m \u001b[0mget\u001b[0m\u001b[0;34m(\u001b[0m\u001b[0mself\u001b[0m\u001b[0;34m,\u001b[0m \u001b[0mtimeout\u001b[0m\u001b[0;34m=\u001b[0m\u001b[0;32mNone\u001b[0m\u001b[0;34m)\u001b[0m\u001b[0;34m:\u001b[0m\u001b[0;34m\u001b[0m\u001b[0;34m\u001b[0m\u001b[0m\n",
            "\u001b[0;32m/usr/lib/python3.7/threading.py\u001b[0m in \u001b[0;36mwait\u001b[0;34m(self, timeout)\u001b[0m\n\u001b[1;32m    550\u001b[0m             \u001b[0msignaled\u001b[0m \u001b[0;34m=\u001b[0m \u001b[0mself\u001b[0m\u001b[0;34m.\u001b[0m\u001b[0m_flag\u001b[0m\u001b[0;34m\u001b[0m\u001b[0;34m\u001b[0m\u001b[0m\n\u001b[1;32m    551\u001b[0m             \u001b[0;32mif\u001b[0m \u001b[0;32mnot\u001b[0m \u001b[0msignaled\u001b[0m\u001b[0;34m:\u001b[0m\u001b[0;34m\u001b[0m\u001b[0;34m\u001b[0m\u001b[0m\n\u001b[0;32m--> 552\u001b[0;31m                 \u001b[0msignaled\u001b[0m \u001b[0;34m=\u001b[0m \u001b[0mself\u001b[0m\u001b[0;34m.\u001b[0m\u001b[0m_cond\u001b[0m\u001b[0;34m.\u001b[0m\u001b[0mwait\u001b[0m\u001b[0;34m(\u001b[0m\u001b[0mtimeout\u001b[0m\u001b[0;34m)\u001b[0m\u001b[0;34m\u001b[0m\u001b[0;34m\u001b[0m\u001b[0m\n\u001b[0m\u001b[1;32m    553\u001b[0m             \u001b[0;32mreturn\u001b[0m \u001b[0msignaled\u001b[0m\u001b[0;34m\u001b[0m\u001b[0;34m\u001b[0m\u001b[0m\n\u001b[1;32m    554\u001b[0m \u001b[0;34m\u001b[0m\u001b[0m\n",
            "\u001b[0;32m/usr/lib/python3.7/threading.py\u001b[0m in \u001b[0;36mwait\u001b[0;34m(self, timeout)\u001b[0m\n\u001b[1;32m    294\u001b[0m         \u001b[0;32mtry\u001b[0m\u001b[0;34m:\u001b[0m    \u001b[0;31m# restore state no matter what (e.g., KeyboardInterrupt)\u001b[0m\u001b[0;34m\u001b[0m\u001b[0;34m\u001b[0m\u001b[0m\n\u001b[1;32m    295\u001b[0m             \u001b[0;32mif\u001b[0m \u001b[0mtimeout\u001b[0m \u001b[0;32mis\u001b[0m \u001b[0;32mNone\u001b[0m\u001b[0;34m:\u001b[0m\u001b[0;34m\u001b[0m\u001b[0;34m\u001b[0m\u001b[0m\n\u001b[0;32m--> 296\u001b[0;31m                 \u001b[0mwaiter\u001b[0m\u001b[0;34m.\u001b[0m\u001b[0macquire\u001b[0m\u001b[0;34m(\u001b[0m\u001b[0;34m)\u001b[0m\u001b[0;34m\u001b[0m\u001b[0;34m\u001b[0m\u001b[0m\n\u001b[0m\u001b[1;32m    297\u001b[0m                 \u001b[0mgotit\u001b[0m \u001b[0;34m=\u001b[0m \u001b[0;32mTrue\u001b[0m\u001b[0;34m\u001b[0m\u001b[0;34m\u001b[0m\u001b[0m\n\u001b[1;32m    298\u001b[0m             \u001b[0;32melse\u001b[0m\u001b[0;34m:\u001b[0m\u001b[0;34m\u001b[0m\u001b[0;34m\u001b[0m\u001b[0m\n",
            "\u001b[0;31mKeyboardInterrupt\u001b[0m: "
          ]
        }
      ],
      "source": [
        "%%time\n",
        "pool = Pool(n_thread)\n",
        "thread = pool.map(book_train_preprocessing, book_train_chunks)\n",
        "pool.close()\n",
        "\n",
        "a1, a2 = zip(*thread)\n",
        "X_books = [np.concatenate(a1[i], axis=0) for i in range(len(a1))]\n",
        "X_books = np.concatenate(X_books, axis=0)\n",
        "\n",
        "targets = [np.concatenate(a2[i], axis=0) for i in range(len(a2))]\n",
        "targets = np.concatenate(targets, axis=0)"
      ]
    },
    {
      "cell_type": "code",
      "execution_count": null,
      "metadata": {
        "colab": {
          "base_uri": "https://localhost:8080/"
        },
        "id": "TlNAWKJCX0he",
        "outputId": "c8b148af-1145-4d60-bd73-332631c28d36"
      },
      "outputs": [
        {
          "output_type": "stream",
          "name": "stdout",
          "text": [
            "CPU times: user 3.61 s, sys: 1.43 s, total: 5.04 s\n",
            "Wall time: 9min 21s\n"
          ]
        }
      ],
      "source": [
        "%%time \n",
        "pool = Pool(n_thread)\n",
        "trade_thread = pool.map(trade_train_preprocessing, trade_train_chunks)\n",
        "pool.close()\n",
        "\n",
        "a1, _ = zip(*trade_thread)\n",
        "X_trades = [np.concatenate(a1[i], axis=0) for i in range(len(a1))]\n",
        "X_trades = np.concatenate(X_trades, axis=0)"
      ]
    },
    {
      "cell_type": "code",
      "execution_count": null,
      "metadata": {
        "colab": {
          "background_save": true
        },
        "id": "1isNlLE6Yb0_",
        "outputId": "d37ba480-bf4e-41fa-d33e-d593fa727bc6"
      },
      "outputs": [
        {
          "name": "stdout",
          "output_type": "stream",
          "text": [
            "(428932, 36, 23) (428932, 36, 6) (428932,)\n",
            "(428932, 36, 29) (428932,)\n"
          ]
        }
      ],
      "source": [
        "print(X_books.shape, X_trades.shape, targets.shape)\n",
        "train = np.concatenate((X_books, X_trades), axis=2)\n",
        "print(train.shape, targets.shape)"
      ]
    },
    {
      "cell_type": "code",
      "execution_count": null,
      "metadata": {
        "colab": {
          "background_save": true
        },
        "id": "aqKb1fQQz0oo",
        "outputId": "9afc893f-b1a8-48b5-e976-1b8d6318319e"
      },
      "outputs": [
        {
          "data": {
            "text/plain": [
              "36"
            ]
          },
          "execution_count": 24,
          "metadata": {},
          "output_type": "execute_result"
        }
      ],
      "source": [
        "train.shape[1]"
      ]
    },
    {
      "cell_type": "markdown",
      "metadata": {
        "id": "GK-OZglKfZ_F"
      },
      "source": [
        "## Spliting of Train, Val and Test data"
      ]
    },
    {
      "cell_type": "code",
      "execution_count": null,
      "metadata": {
        "colab": {
          "background_save": true
        },
        "id": "uxZFzke9Ywqm"
      },
      "outputs": [],
      "source": [
        "idx = np.arange(train.shape[0])\n",
        "train_idx, test_idx = train_test_split(idx, shuffle=False, test_size=0.1, random_state=42)\n",
        "train_idx, val_idx = train_test_split(train_idx, shuffle=False, test_size=0.2, random_state=42)"
      ]
    },
    {
      "cell_type": "code",
      "execution_count": null,
      "metadata": {
        "colab": {
          "background_save": true
        },
        "id": "819WfQPFzOE4",
        "outputId": "b264ffef-0785-47b1-e7fa-fc381a8f41d0"
      },
      "outputs": [
        {
          "data": {
            "text/plain": [
              "(308830,)"
            ]
          },
          "execution_count": 26,
          "metadata": {},
          "output_type": "execute_result"
        }
      ],
      "source": [
        "train_idx.shape"
      ]
    },
    {
      "cell_type": "markdown",
      "metadata": {
        "id": "6m073_tQfdxO"
      },
      "source": [
        "## Data Normalization"
      ]
    },
    {
      "cell_type": "code",
      "execution_count": null,
      "metadata": {
        "colab": {
          "background_save": true,
          "referenced_widgets": [
            "7567a80d3fd94bf9902e83ae46f5fc86"
          ]
        },
        "id": "6EiZ8e-BZAkm",
        "outputId": "3f64b1e1-fede-478b-fb5e-7ed3269b4844"
      },
      "outputs": [
        {
          "data": {
            "application/vnd.jupyter.widget-view+json": {
              "model_id": "7567a80d3fd94bf9902e83ae46f5fc86",
              "version_major": 2,
              "version_minor": 0
            },
            "text/plain": [
              "  0%|          | 0/36 [00:00<?, ?it/s]"
            ]
          },
          "metadata": {},
          "output_type": "display_data"
        }
      ],
      "source": [
        "# Scaler\n",
        "transformers = []\n",
        "for i in tqdm(range(train.shape[1])):\n",
        "    a = np.nan_to_num(train[train_idx, i, :])\n",
        "    b = np.nan_to_num(train[val_idx, i, :])\n",
        "    c = np.nan_to_num(train[test_idx, i, :])\n",
        "\n",
        "    transformer = StandardScaler() #StandardScaler is very useful!\n",
        "    train[train_idx, i, :] = transformer.fit_transform(a)\n",
        "    train[val_idx, i, :] = transformer.transform(b)\n",
        "    train[test_idx, i, :] = transformer.transform(c)\n",
        "    transformers.append(transformer) #Save Scalers for the inference stage"
      ]
    },
    {
      "cell_type": "code",
      "execution_count": null,
      "metadata": {
        "colab": {
          "background_save": true
        },
        "id": "7Tw0Brr_Znnm"
      },
      "outputs": [],
      "source": [
        "def rmspe(y_true, y_pred):\n",
        "    return K.sqrt(K.mean(K.square((y_true - y_pred) / y_true)))"
      ]
    },
    {
      "cell_type": "markdown",
      "metadata": {
        "id": "JGoPt6M1fhd1"
      },
      "source": [
        "## Data Generator"
      ]
    },
    {
      "cell_type": "code",
      "execution_count": null,
      "metadata": {
        "colab": {
          "background_save": true
        },
        "id": "m0ej8aAEZrPl"
      },
      "outputs": [],
      "source": [
        "class Data_Generator(tf.keras.utils.Sequence):\n",
        "    'Generates data for Keras'\n",
        "    def __init__(self, ds, targets, batch_size, shape=(32,32,32), shuffle=True):\n",
        "        'Initialization'\n",
        "        self.batch_size = batch_size\n",
        "        self.targets = targets\n",
        "        self.shape = shape\n",
        "        self.ds = ds\n",
        "        self.ids = np.arange(ds.shape[0])\n",
        "        self.shuffle = shuffle\n",
        "        self.on_epoch_end()\n",
        "\n",
        "    def __len__(self):\n",
        "        'Denotes the number of batches per epoch'\n",
        "        return int(np.floor(len(self.ids) / self.batch_size))\n",
        "\n",
        "    def __getitem__(self, index):\n",
        "        \n",
        "        'Generate one batch of data'\n",
        "        # Generate indexes of the batch\n",
        "        indexes = self.ids[index*self.batch_size:(index+1)*self.batch_size]\n",
        "\n",
        "        # Find list of IDs\n",
        "        ids_temp = [self.ids[k] for k in indexes]\n",
        "\n",
        "\n",
        "        x = self.ds[ids_temp, :, :]\n",
        "        y = self.targets[ids_temp]\n",
        "        \n",
        "        return x, y\n",
        "\n",
        "    def on_epoch_end(self):\n",
        "        'Updates indexes after each epoch'\n",
        "        self.ids = np.arange(self.ds.shape[0])\n",
        "        if self.shuffle == True:\n",
        "            np.random.shuffle(self.ids)"
      ]
    },
    {
      "cell_type": "code",
      "execution_count": null,
      "metadata": {
        "id": "xODr0Lh2bJLN"
      },
      "outputs": [],
      "source": [
        "batch_size = 256\n",
        "\n",
        "training_generator = Data_Generator(train[train_idx, :, :], targets[train_idx], batch_size=batch_size)\n",
        "validation_generator = Data_Generator(train[val_idx, :, :], targets[val_idx], batch_size=batch_size)\n",
        "test_generator = Data_Generator(train[test_idx, :, :], targets[test_idx], batch_size=batch_size)"
      ]
    },
    {
      "cell_type": "code",
      "execution_count": null,
      "metadata": {
        "id": "wVD0qWOcacdg"
      },
      "outputs": [],
      "source": [
        "from keras.models import Model, Input, load_model\n",
        "from keras.layers import Dense, Embedding, Masking, Flatten, Conv1D, Conv2D\n",
        "from keras.layers import LSTM, Concatenate, Add, BatchNormalization, Bidirectional\n",
        "from keras.layers import GlobalAveragePooling1D, Permute, GlobalMaxPool1D, MaxPooling1D\n",
        "from keras.layers import Input, Dense, LSTM, CuDNNLSTM, concatenate, Activation, GRU, SimpleRNN"
      ]
    },
    {
      "cell_type": "markdown",
      "metadata": {
        "id": "zuiriQ7Tflo_"
      },
      "source": [
        "## LSTM Long Short Term Memory"
      ]
    },
    {
      "cell_type": "code",
      "execution_count": null,
      "metadata": {
        "id": "A_QwetZOZ75-"
      },
      "outputs": [],
      "source": [
        "def get_model_v1(input_shape, output):\n",
        "  input = Input(input_shape)\n",
        "  x = LSTM(128, return_sequences=True)(input)\n",
        "  x = LSTM(64, return_sequences=True)(x)\n",
        "  x = LSTM(10, return_sequences=False)(x)\n",
        "\n",
        "  output = Dense(1)(x)\n",
        "  model = Model(input, output)\n",
        "  model.compile(loss=rmspe, optimizer='adam')\n",
        "  model.summary()\n",
        "\n",
        "  return model"
      ]
    },
    {
      "cell_type": "code",
      "execution_count": null,
      "metadata": {
        "colab": {
          "base_uri": "https://localhost:8080/"
        },
        "id": "2pNfx7f_a6hw",
        "outputId": "1939a57b-e101-4435-e77b-cfc921a61f1b"
      },
      "outputs": [
        {
          "name": "stdout",
          "output_type": "stream",
          "text": [
            "Model: \"model\"\n",
            "_________________________________________________________________\n",
            " Layer (type)                Output Shape              Param #   \n",
            "=================================================================\n",
            " input_1 (InputLayer)        [(None, 36, 29)]          0         \n",
            "                                                                 \n",
            " lstm (LSTM)                 (None, 36, 128)           80896     \n",
            "                                                                 \n",
            " lstm_1 (LSTM)               (None, 36, 64)            49408     \n",
            "                                                                 \n",
            " lstm_2 (LSTM)               (None, 10)                3000      \n",
            "                                                                 \n",
            " dense (Dense)               (None, 1)                 11        \n",
            "                                                                 \n",
            "=================================================================\n",
            "Total params: 133,315\n",
            "Trainable params: 133,315\n",
            "Non-trainable params: 0\n",
            "_________________________________________________________________\n"
          ]
        }
      ],
      "source": [
        "input_shape = (36, 29)\n",
        "output_shape = 1\n",
        "model = get_model_v1(input_shape, output_shape)\n",
        "checkpoint_filepath = CHECKPOINT\n",
        "model_checkpoint_callback = tf.keras.callbacks.ModelCheckpoint(\n",
        "    filepath=checkpoint_filepath,\n",
        "    save_weights_only=True,\n",
        "    monitor='val_loss',\n",
        "    mode='min',\n",
        "    save_best_only=True)\n",
        "\n",
        "model_earlystopping_callback = tf.keras.callbacks.EarlyStopping(monitor='val_loss', patience=20)"
      ]
    },
    {
      "cell_type": "code",
      "execution_count": null,
      "metadata": {
        "colab": {
          "background_save": true,
          "base_uri": "https://localhost:8080/"
        },
        "id": "bgfxyWPcb0jH",
        "outputId": "dfde7065-019e-4109-aabe-b5a295965200"
      },
      "outputs": [
        {
          "name": "stdout",
          "output_type": "stream",
          "text": [
            "Epoch 1/50\n",
            "1206/1206 [==============================] - 423s 346ms/step - loss: 1.8548 - val_loss: 0.8737\n",
            "Epoch 2/50\n",
            "1206/1206 [==============================] - 419s 348ms/step - loss: 0.5274 - val_loss: 0.2793\n",
            "Epoch 3/50\n",
            "1206/1206 [==============================] - 408s 339ms/step - loss: 0.4685 - val_loss: 0.3064\n",
            "Epoch 4/50\n",
            "1206/1206 [==============================] - 421s 349ms/step - loss: 0.3706 - val_loss: 0.2665\n",
            "Epoch 5/50\n",
            "1206/1206 [==============================] - 420s 348ms/step - loss: 0.3358 - val_loss: 0.2557\n",
            "Epoch 6/50\n",
            "1206/1206 [==============================] - 419s 348ms/step - loss: 0.3111 - val_loss: 0.2934\n",
            "Epoch 7/50\n",
            "1206/1206 [==============================] - 409s 339ms/step - loss: 0.2931 - val_loss: 0.2702\n",
            "Epoch 8/50\n",
            "1206/1206 [==============================] - 416s 345ms/step - loss: 0.2881 - val_loss: 0.2426\n",
            "Epoch 9/50\n",
            "1206/1206 [==============================] - 424s 351ms/step - loss: 0.2765 - val_loss: 0.2629\n",
            "Epoch 10/50\n",
            "1206/1206 [==============================] - 419s 347ms/step - loss: 0.2703 - val_loss: 0.2631\n",
            "Epoch 11/50\n",
            "1206/1206 [==============================] - 415s 344ms/step - loss: 0.2650 - val_loss: 0.2523\n",
            "Epoch 12/50\n",
            "1206/1206 [==============================] - 412s 342ms/step - loss: 0.2635 - val_loss: 0.2564\n",
            "Epoch 13/50\n",
            "1206/1206 [==============================] - 411s 341ms/step - loss: 0.2593 - val_loss: 0.2515\n",
            "Epoch 14/50\n",
            "1206/1206 [==============================] - 409s 339ms/step - loss: 0.2529 - val_loss: 0.2515\n",
            "Epoch 15/50\n",
            "1206/1206 [==============================] - 414s 343ms/step - loss: 0.2514 - val_loss: 0.2475\n",
            "Epoch 16/50\n",
            "1206/1206 [==============================] - 415s 344ms/step - loss: 0.2471 - val_loss: 0.2591\n",
            "Epoch 17/50\n",
            "1206/1206 [==============================] - 408s 338ms/step - loss: 0.2479 - val_loss: 0.2358\n",
            "Epoch 18/50\n",
            "1206/1206 [==============================] - 409s 340ms/step - loss: 0.2490 - val_loss: 0.2368\n",
            "Epoch 19/50\n",
            "1206/1206 [==============================] - 409s 339ms/step - loss: 0.2441 - val_loss: 0.2421\n",
            "Epoch 20/50\n",
            "1206/1206 [==============================] - 415s 344ms/step - loss: 0.2448 - val_loss: 0.2369\n",
            "Epoch 21/50\n",
            " 812/1206 [===================>..........] - ETA: 2:01 - loss: 0.2415"
          ]
        }
      ],
      "source": [
        "epochs = 50\n",
        "history = model.fit_generator(generator=training_generator, \n",
        "                              callbacks=[model_checkpoint_callback, model_earlystopping_callback], \n",
        "                              epochs=epochs, \n",
        "                              validation_data=validation_generator, \n",
        "                              use_multiprocessing=False, \n",
        "                              workers=n_thread)"
      ]
    },
    {
      "cell_type": "markdown",
      "metadata": {
        "id": "nMdmGg-afshc"
      },
      "source": [
        "### Training vs Validation Loss"
      ]
    },
    {
      "cell_type": "code",
      "execution_count": null,
      "metadata": {
        "id": "EBEJZuLWb7Ed"
      },
      "outputs": [],
      "source": [
        "import matplotlib.pyplot as plt\n",
        "plt.plot(history.history[\"loss\"])\n",
        "plt.plot(history.history[\"val_loss\"])\n",
        "plt.xlabel(\"Epochs\")\n",
        "plt.ylabel(\"Loss\")\n",
        "plt.title(\"Loss Graph\")\n",
        "plt.show()"
      ]
    },
    {
      "cell_type": "code",
      "execution_count": null,
      "metadata": {
        "id": "vpPT2_8Wb-Rl"
      },
      "outputs": [],
      "source": [
        "for X, Y in test_generator:\n",
        "   X_test = X\n",
        "   y_test = Y"
      ]
    },
    {
      "cell_type": "code",
      "execution_count": null,
      "metadata": {
        "id": "HW3Fj7YAcAoe"
      },
      "outputs": [],
      "source": [
        "prediction = model.predict(X_test)"
      ]
    },
    {
      "cell_type": "markdown",
      "metadata": {
        "id": "lqZ28aLqfvvE"
      },
      "source": [
        "### Evaluation Criteria"
      ]
    },
    {
      "cell_type": "code",
      "execution_count": null,
      "metadata": {
        "id": "CinORM5UcIrG"
      },
      "outputs": [],
      "source": [
        "lstm_mse = mean_squared_error(y_test, prediction)\n",
        "lstm_mae = mean_absolute_error(y_test, prediction)\n",
        "lstm_r2 = r2_score(y_test, prediction)\n",
        "lstm_evs = explained_variance_score(y_test, prediction)"
      ]
    },
    {
      "cell_type": "code",
      "execution_count": null,
      "metadata": {
        "id": "oNxFmSOHcRx-"
      },
      "outputs": [],
      "source": [
        "print(f'LSTM MSE:{lstm_mse}')\n",
        "print(f'LSTM MAE:{lstm_mae}')\n",
        "print(f'LSTM r2:{lstm_r2}')\n",
        "print(f'LSTM EVS:{lstm_evs}')"
      ]
    },
    {
      "cell_type": "markdown",
      "metadata": {
        "id": "C8J8YY5sfzqd"
      },
      "source": [
        "## Attention Layer"
      ]
    },
    {
      "cell_type": "code",
      "execution_count": null,
      "metadata": {
        "id": "aRab_0mvcVK-"
      },
      "outputs": [],
      "source": [
        "# https://github.com/philipperemy/keras-attention-mechanism\n",
        "class Attention_layer(Layer):\n",
        "\n",
        "    def __init__(self, units=128, **kwargs):\n",
        "        self.units = units\n",
        "        super().__init__(**kwargs)\n",
        "\n",
        "    def __call__(self, inputs):\n",
        "        \"\"\"\n",
        "        Many-to-one attention mechanism for Keras.\n",
        "        @param inputs: 3D tensor with shape (batch_size, time_steps, input_dim).\n",
        "        @return: 2D tensor with shape (batch_size, 128)\n",
        "        @author: felixhao28, philipperemy.\n",
        "        \"\"\"\n",
        "        hidden_states = inputs\n",
        "        hidden_size = int(hidden_states.shape[2])\n",
        "        # Inside dense layer\n",
        "        #              hidden_states            dot               W            =>           score_first_part\n",
        "        # (batch_size, time_steps, hidden_size) dot (hidden_size, hidden_size) => (batch_size, time_steps, hidden_size)\n",
        "        # W is the trainable weight matrix of attention Luong's multiplicative style score\n",
        "        score_first_part = Dense(hidden_size, use_bias=False, name='attention_score_vec')(hidden_states)\n",
        "        #            score_first_part           dot        last_hidden_state     => attention_weights\n",
        "        # (batch_size, time_steps, hidden_size) dot   (batch_size, hidden_size)  => (batch_size, time_steps)\n",
        "        h_t = Lambda(lambda x: x[:, -1, :], output_shape=(hidden_size,), name='last_hidden_state')(hidden_states)\n",
        "        score = Dot(axes=[1, 2], name='attention_score')([h_t, score_first_part])\n",
        "        attention_weights = Activation('softmax', name='attention_weight')(score)\n",
        "        # (batch_size, time_steps, hidden_size) dot (batch_size, time_steps) => (batch_size, hidden_size)\n",
        "        context_vector = Dot(axes=[1, 1], name='context_vector')([hidden_states, attention_weights])\n",
        "        pre_activation = Concatenate(name='attention_output')([context_vector, h_t])\n",
        "        attention_vector = Dense(self.units, use_bias=False, activation='tanh', name='attention_vector')(pre_activation)\n",
        "        return attention_vector\n",
        "\n",
        "    def get_config(self):\n",
        "        return {'units': self.units}\n",
        "\n",
        "    @classmethod\n",
        "    def from_config(cls, config):\n",
        "        return cls(**config)"
      ]
    },
    {
      "cell_type": "markdown",
      "metadata": {
        "id": "HAPUvKPPf1vd"
      },
      "source": [
        "## Attention LSTM + GRU Units"
      ]
    },
    {
      "cell_type": "code",
      "execution_count": null,
      "metadata": {
        "id": "RRoNXPPJcVL0"
      },
      "outputs": [],
      "source": [
        "def generate_lstm(input_shape, NB_CLASS, NUM_CELLS=64):\n",
        "    ip = Input(shape=input_shape)\n",
        "    y = LSTM(64, activation='relu', return_sequences=True)(ip)\n",
        "    y = Attention_layer(NUM_CELLS)(y)\n",
        "    \n",
        "    x = tf.keras.layers.GRU(NUM_CELLS, activation='relu', return_sequences=True)(ip)\n",
        "    x = tf.keras.layers.GRU(128, return_sequences=True)(x)\n",
        "    x = tf.keras.layers.Activation('relu')(x)\n",
        "    x = tf.keras.layers.Dropout(0.25)(x)\n",
        "    x = tf.keras.layers.GRU(10, return_sequences=False)(x)\n",
        "    x = tf.keras.layers.Activation('relu')(x)\n",
        "    \n",
        "    \n",
        "    x = tf.keras.layers.concatenate([x, y])\n",
        "    out = Dense(NB_CLASS)(x)\n",
        "    \n",
        "    model = Model(ip, out)\n",
        "\n",
        "    return model"
      ]
    },
    {
      "cell_type": "code",
      "execution_count": null,
      "metadata": {
        "id": "xR5Rgrrdchvt"
      },
      "outputs": [],
      "source": [
        "input_shape = (36, 29)\n",
        "output_shape = 1\n",
        "model_attnlstm = generate_lstm(input_shape, output_shape)\n",
        "model_attnlstm.summary()\n",
        "sgd = tf.keras.optimizers.SGD(lr=0.001, decay=1e-6, momentum=0.9, nesterov=True)\n",
        "model_attnlstm.compile(optimizer='adam', loss=rmspe)"
      ]
    },
    {
      "cell_type": "code",
      "execution_count": null,
      "metadata": {
        "id": "UoVVaHrycmSP"
      },
      "outputs": [],
      "source": [
        "epochs = 50\n",
        "history = model_attnlstm.fit_generator(generator=training_generator, \n",
        "                              callbacks=[model_checkpoint_callback, model_earlystopping_callback], \n",
        "                              epochs=epochs, \n",
        "                              validation_data=validation_generator, \n",
        "                              use_multiprocessing=False, \n",
        "                              workers=n_thread)"
      ]
    },
    {
      "cell_type": "markdown",
      "metadata": {
        "id": "kELEVomVf5Ss"
      },
      "source": [
        "## Training vs Validation Loss"
      ]
    },
    {
      "cell_type": "code",
      "execution_count": null,
      "metadata": {
        "id": "lUlUpny4cZEm"
      },
      "outputs": [],
      "source": [
        "import matplotlib.pyplot as plt\n",
        "plt.plot(history.history[\"loss\"])\n",
        "plt.plot(history.history[\"val_loss\"])\n",
        "plt.xlabel(\"Epochs\")\n",
        "plt.ylabel(\"Loss\")\n",
        "plt.title(\"Loss Graph\")\n",
        "plt.show()"
      ]
    },
    {
      "cell_type": "code",
      "execution_count": null,
      "metadata": {
        "id": "OejtrkEJcvKV"
      },
      "outputs": [],
      "source": [
        "attn_prediction = model_attnlstm.predict(X_test)"
      ]
    },
    {
      "cell_type": "markdown",
      "metadata": {
        "id": "eD-l1DkCf8nz"
      },
      "source": [
        "## Evaluation Criteria"
      ]
    },
    {
      "cell_type": "code",
      "execution_count": null,
      "metadata": {
        "id": "icw7WIDYcyMt"
      },
      "outputs": [],
      "source": [
        "attn_lstm_mse = mean_squared_error(attn_prediction, y_test)\n",
        "attn_lstm_mae = mean_absolute_error(attn_prediction, y_test)\n",
        "attn_lstm_r2 = r2_score(attn_prediction, y_test)\n",
        "attn_lstm_evs = explained_variance_score(attn_prediction, y_test)\n",
        "attn_lstm_rmspe = rmspe(attn_prediction, y_test)"
      ]
    },
    {
      "cell_type": "code",
      "execution_count": null,
      "metadata": {
        "id": "mlQ3PiKIc0Mt"
      },
      "outputs": [],
      "source": [
        "print(f'ATTNLSTM MSE:{attn_lstm_mse}')\n",
        "print(f'ATTNLSTM MAE:{attn_lstm_mae}')\n",
        "print(f'ATTNLSTM r2:{attn_lstm_r2}')\n",
        "print(f'ATTNLSTM EVS:{attn_lstm_evs}')\n",
        "print(f'ATTNLSTM RMSPE:{attn_lstm_rmspe}')"
      ]
    }
  ],
  "metadata": {
    "accelerator": "GPU",
    "colab": {
      "provenance": []
    },
    "kernelspec": {
      "display_name": "Python 3",
      "name": "python3"
    },
    "language_info": {
      "name": "python"
    },
    "widgets": {
      "application/vnd.jupyter.widget-state+json": {
        "9dc8a504e150467f86cb4caf29699690": {
          "model_module": "@jupyter-widgets/controls",
          "model_name": "HBoxModel",
          "model_module_version": "1.5.0",
          "state": {
            "_dom_classes": [],
            "_model_module": "@jupyter-widgets/controls",
            "_model_module_version": "1.5.0",
            "_model_name": "HBoxModel",
            "_view_count": null,
            "_view_module": "@jupyter-widgets/controls",
            "_view_module_version": "1.5.0",
            "_view_name": "HBoxView",
            "box_style": "",
            "children": [
              "IPY_MODEL_1929b4f775814d0899c6bc03667351e1",
              "IPY_MODEL_2ce9cf106207412d98c3b132df7b3fe2",
              "IPY_MODEL_f4fd4a608d4442b78c39c11aea54a392"
            ],
            "layout": "IPY_MODEL_3e13ea86a8af49c495c717dc2d43db79"
          }
        },
        "1929b4f775814d0899c6bc03667351e1": {
          "model_module": "@jupyter-widgets/controls",
          "model_name": "HTMLModel",
          "model_module_version": "1.5.0",
          "state": {
            "_dom_classes": [],
            "_model_module": "@jupyter-widgets/controls",
            "_model_module_version": "1.5.0",
            "_model_name": "HTMLModel",
            "_view_count": null,
            "_view_module": "@jupyter-widgets/controls",
            "_view_module_version": "1.5.0",
            "_view_name": "HTMLView",
            "description": "",
            "description_tooltip": null,
            "layout": "IPY_MODEL_0820b0ed50f842b2b5f7bf235dcd777f",
            "placeholder": "​",
            "style": "IPY_MODEL_b0ed8c1a986345af877ab498715d050d",
            "value": "100%"
          }
        },
        "2ce9cf106207412d98c3b132df7b3fe2": {
          "model_module": "@jupyter-widgets/controls",
          "model_name": "FloatProgressModel",
          "model_module_version": "1.5.0",
          "state": {
            "_dom_classes": [],
            "_model_module": "@jupyter-widgets/controls",
            "_model_module_version": "1.5.0",
            "_model_name": "FloatProgressModel",
            "_view_count": null,
            "_view_module": "@jupyter-widgets/controls",
            "_view_module_version": "1.5.0",
            "_view_name": "ProgressView",
            "bar_style": "success",
            "description": "",
            "description_tooltip": null,
            "layout": "IPY_MODEL_34592342cc234902ae13b74d618d524f",
            "max": 112,
            "min": 0,
            "orientation": "horizontal",
            "style": "IPY_MODEL_e3f882e3868840d6b0dc39b42ed23335",
            "value": 112
          }
        },
        "f4fd4a608d4442b78c39c11aea54a392": {
          "model_module": "@jupyter-widgets/controls",
          "model_name": "HTMLModel",
          "model_module_version": "1.5.0",
          "state": {
            "_dom_classes": [],
            "_model_module": "@jupyter-widgets/controls",
            "_model_module_version": "1.5.0",
            "_model_name": "HTMLModel",
            "_view_count": null,
            "_view_module": "@jupyter-widgets/controls",
            "_view_module_version": "1.5.0",
            "_view_name": "HTMLView",
            "description": "",
            "description_tooltip": null,
            "layout": "IPY_MODEL_86fc430e2d274a3988c78b503d824258",
            "placeholder": "​",
            "style": "IPY_MODEL_a3df3ebc37d44e8b90e50ae2169b0833",
            "value": " 112/112 [00:11&lt;00:00, 13.73it/s]"
          }
        },
        "3e13ea86a8af49c495c717dc2d43db79": {
          "model_module": "@jupyter-widgets/base",
          "model_name": "LayoutModel",
          "model_module_version": "1.2.0",
          "state": {
            "_model_module": "@jupyter-widgets/base",
            "_model_module_version": "1.2.0",
            "_model_name": "LayoutModel",
            "_view_count": null,
            "_view_module": "@jupyter-widgets/base",
            "_view_module_version": "1.2.0",
            "_view_name": "LayoutView",
            "align_content": null,
            "align_items": null,
            "align_self": null,
            "border": null,
            "bottom": null,
            "display": null,
            "flex": null,
            "flex_flow": null,
            "grid_area": null,
            "grid_auto_columns": null,
            "grid_auto_flow": null,
            "grid_auto_rows": null,
            "grid_column": null,
            "grid_gap": null,
            "grid_row": null,
            "grid_template_areas": null,
            "grid_template_columns": null,
            "grid_template_rows": null,
            "height": null,
            "justify_content": null,
            "justify_items": null,
            "left": null,
            "margin": null,
            "max_height": null,
            "max_width": null,
            "min_height": null,
            "min_width": null,
            "object_fit": null,
            "object_position": null,
            "order": null,
            "overflow": null,
            "overflow_x": null,
            "overflow_y": null,
            "padding": null,
            "right": null,
            "top": null,
            "visibility": null,
            "width": null
          }
        },
        "0820b0ed50f842b2b5f7bf235dcd777f": {
          "model_module": "@jupyter-widgets/base",
          "model_name": "LayoutModel",
          "model_module_version": "1.2.0",
          "state": {
            "_model_module": "@jupyter-widgets/base",
            "_model_module_version": "1.2.0",
            "_model_name": "LayoutModel",
            "_view_count": null,
            "_view_module": "@jupyter-widgets/base",
            "_view_module_version": "1.2.0",
            "_view_name": "LayoutView",
            "align_content": null,
            "align_items": null,
            "align_self": null,
            "border": null,
            "bottom": null,
            "display": null,
            "flex": null,
            "flex_flow": null,
            "grid_area": null,
            "grid_auto_columns": null,
            "grid_auto_flow": null,
            "grid_auto_rows": null,
            "grid_column": null,
            "grid_gap": null,
            "grid_row": null,
            "grid_template_areas": null,
            "grid_template_columns": null,
            "grid_template_rows": null,
            "height": null,
            "justify_content": null,
            "justify_items": null,
            "left": null,
            "margin": null,
            "max_height": null,
            "max_width": null,
            "min_height": null,
            "min_width": null,
            "object_fit": null,
            "object_position": null,
            "order": null,
            "overflow": null,
            "overflow_x": null,
            "overflow_y": null,
            "padding": null,
            "right": null,
            "top": null,
            "visibility": null,
            "width": null
          }
        },
        "b0ed8c1a986345af877ab498715d050d": {
          "model_module": "@jupyter-widgets/controls",
          "model_name": "DescriptionStyleModel",
          "model_module_version": "1.5.0",
          "state": {
            "_model_module": "@jupyter-widgets/controls",
            "_model_module_version": "1.5.0",
            "_model_name": "DescriptionStyleModel",
            "_view_count": null,
            "_view_module": "@jupyter-widgets/base",
            "_view_module_version": "1.2.0",
            "_view_name": "StyleView",
            "description_width": ""
          }
        },
        "34592342cc234902ae13b74d618d524f": {
          "model_module": "@jupyter-widgets/base",
          "model_name": "LayoutModel",
          "model_module_version": "1.2.0",
          "state": {
            "_model_module": "@jupyter-widgets/base",
            "_model_module_version": "1.2.0",
            "_model_name": "LayoutModel",
            "_view_count": null,
            "_view_module": "@jupyter-widgets/base",
            "_view_module_version": "1.2.0",
            "_view_name": "LayoutView",
            "align_content": null,
            "align_items": null,
            "align_self": null,
            "border": null,
            "bottom": null,
            "display": null,
            "flex": null,
            "flex_flow": null,
            "grid_area": null,
            "grid_auto_columns": null,
            "grid_auto_flow": null,
            "grid_auto_rows": null,
            "grid_column": null,
            "grid_gap": null,
            "grid_row": null,
            "grid_template_areas": null,
            "grid_template_columns": null,
            "grid_template_rows": null,
            "height": null,
            "justify_content": null,
            "justify_items": null,
            "left": null,
            "margin": null,
            "max_height": null,
            "max_width": null,
            "min_height": null,
            "min_width": null,
            "object_fit": null,
            "object_position": null,
            "order": null,
            "overflow": null,
            "overflow_x": null,
            "overflow_y": null,
            "padding": null,
            "right": null,
            "top": null,
            "visibility": null,
            "width": null
          }
        },
        "e3f882e3868840d6b0dc39b42ed23335": {
          "model_module": "@jupyter-widgets/controls",
          "model_name": "ProgressStyleModel",
          "model_module_version": "1.5.0",
          "state": {
            "_model_module": "@jupyter-widgets/controls",
            "_model_module_version": "1.5.0",
            "_model_name": "ProgressStyleModel",
            "_view_count": null,
            "_view_module": "@jupyter-widgets/base",
            "_view_module_version": "1.2.0",
            "_view_name": "StyleView",
            "bar_color": null,
            "description_width": ""
          }
        },
        "86fc430e2d274a3988c78b503d824258": {
          "model_module": "@jupyter-widgets/base",
          "model_name": "LayoutModel",
          "model_module_version": "1.2.0",
          "state": {
            "_model_module": "@jupyter-widgets/base",
            "_model_module_version": "1.2.0",
            "_model_name": "LayoutModel",
            "_view_count": null,
            "_view_module": "@jupyter-widgets/base",
            "_view_module_version": "1.2.0",
            "_view_name": "LayoutView",
            "align_content": null,
            "align_items": null,
            "align_self": null,
            "border": null,
            "bottom": null,
            "display": null,
            "flex": null,
            "flex_flow": null,
            "grid_area": null,
            "grid_auto_columns": null,
            "grid_auto_flow": null,
            "grid_auto_rows": null,
            "grid_column": null,
            "grid_gap": null,
            "grid_row": null,
            "grid_template_areas": null,
            "grid_template_columns": null,
            "grid_template_rows": null,
            "height": null,
            "justify_content": null,
            "justify_items": null,
            "left": null,
            "margin": null,
            "max_height": null,
            "max_width": null,
            "min_height": null,
            "min_width": null,
            "object_fit": null,
            "object_position": null,
            "order": null,
            "overflow": null,
            "overflow_x": null,
            "overflow_y": null,
            "padding": null,
            "right": null,
            "top": null,
            "visibility": null,
            "width": null
          }
        },
        "a3df3ebc37d44e8b90e50ae2169b0833": {
          "model_module": "@jupyter-widgets/controls",
          "model_name": "DescriptionStyleModel",
          "model_module_version": "1.5.0",
          "state": {
            "_model_module": "@jupyter-widgets/controls",
            "_model_module_version": "1.5.0",
            "_model_name": "DescriptionStyleModel",
            "_view_count": null,
            "_view_module": "@jupyter-widgets/base",
            "_view_module_version": "1.2.0",
            "_view_name": "StyleView",
            "description_width": ""
          }
        },
        "1a627f6149674f66a858982286bdbff1": {
          "model_module": "@jupyter-widgets/controls",
          "model_name": "HBoxModel",
          "model_module_version": "1.5.0",
          "state": {
            "_dom_classes": [],
            "_model_module": "@jupyter-widgets/controls",
            "_model_module_version": "1.5.0",
            "_model_name": "HBoxModel",
            "_view_count": null,
            "_view_module": "@jupyter-widgets/controls",
            "_view_module_version": "1.5.0",
            "_view_name": "HBoxView",
            "box_style": "",
            "children": [
              "IPY_MODEL_4c618e3b8680440d9c00b15b7c051fc0",
              "IPY_MODEL_5f3d900c0a894b18b9e11208db732ce3",
              "IPY_MODEL_164f38658f8c40ffb42e0a5d5cd8eb74"
            ],
            "layout": "IPY_MODEL_acd182b3b81a48689f9f134f08b5d1fb"
          }
        },
        "4c618e3b8680440d9c00b15b7c051fc0": {
          "model_module": "@jupyter-widgets/controls",
          "model_name": "HTMLModel",
          "model_module_version": "1.5.0",
          "state": {
            "_dom_classes": [],
            "_model_module": "@jupyter-widgets/controls",
            "_model_module_version": "1.5.0",
            "_model_name": "HTMLModel",
            "_view_count": null,
            "_view_module": "@jupyter-widgets/controls",
            "_view_module_version": "1.5.0",
            "_view_name": "HTMLView",
            "description": "",
            "description_tooltip": null,
            "layout": "IPY_MODEL_4158c67e67974723afcb228e1b6709cb",
            "placeholder": "​",
            "style": "IPY_MODEL_c1b5bc7ac2274005bc433f8aaab39965",
            "value": "100%"
          }
        },
        "5f3d900c0a894b18b9e11208db732ce3": {
          "model_module": "@jupyter-widgets/controls",
          "model_name": "FloatProgressModel",
          "model_module_version": "1.5.0",
          "state": {
            "_dom_classes": [],
            "_model_module": "@jupyter-widgets/controls",
            "_model_module_version": "1.5.0",
            "_model_name": "FloatProgressModel",
            "_view_count": null,
            "_view_module": "@jupyter-widgets/controls",
            "_view_module_version": "1.5.0",
            "_view_name": "ProgressView",
            "bar_style": "success",
            "description": "",
            "description_tooltip": null,
            "layout": "IPY_MODEL_f008bd5d0853431d93320056e5d5a364",
            "max": 112,
            "min": 0,
            "orientation": "horizontal",
            "style": "IPY_MODEL_25ffd890ec9748eba6bbed6acb81d269",
            "value": 112
          }
        },
        "164f38658f8c40ffb42e0a5d5cd8eb74": {
          "model_module": "@jupyter-widgets/controls",
          "model_name": "HTMLModel",
          "model_module_version": "1.5.0",
          "state": {
            "_dom_classes": [],
            "_model_module": "@jupyter-widgets/controls",
            "_model_module_version": "1.5.0",
            "_model_name": "HTMLModel",
            "_view_count": null,
            "_view_module": "@jupyter-widgets/controls",
            "_view_module_version": "1.5.0",
            "_view_name": "HTMLView",
            "description": "",
            "description_tooltip": null,
            "layout": "IPY_MODEL_ced3ffd8a80e4fefbfcd758de255424f",
            "placeholder": "​",
            "style": "IPY_MODEL_68565720687945e8b902f3633b91a2ce",
            "value": " 112/112 [00:10&lt;00:00, 11.48it/s]"
          }
        },
        "acd182b3b81a48689f9f134f08b5d1fb": {
          "model_module": "@jupyter-widgets/base",
          "model_name": "LayoutModel",
          "model_module_version": "1.2.0",
          "state": {
            "_model_module": "@jupyter-widgets/base",
            "_model_module_version": "1.2.0",
            "_model_name": "LayoutModel",
            "_view_count": null,
            "_view_module": "@jupyter-widgets/base",
            "_view_module_version": "1.2.0",
            "_view_name": "LayoutView",
            "align_content": null,
            "align_items": null,
            "align_self": null,
            "border": null,
            "bottom": null,
            "display": null,
            "flex": null,
            "flex_flow": null,
            "grid_area": null,
            "grid_auto_columns": null,
            "grid_auto_flow": null,
            "grid_auto_rows": null,
            "grid_column": null,
            "grid_gap": null,
            "grid_row": null,
            "grid_template_areas": null,
            "grid_template_columns": null,
            "grid_template_rows": null,
            "height": null,
            "justify_content": null,
            "justify_items": null,
            "left": null,
            "margin": null,
            "max_height": null,
            "max_width": null,
            "min_height": null,
            "min_width": null,
            "object_fit": null,
            "object_position": null,
            "order": null,
            "overflow": null,
            "overflow_x": null,
            "overflow_y": null,
            "padding": null,
            "right": null,
            "top": null,
            "visibility": null,
            "width": null
          }
        },
        "4158c67e67974723afcb228e1b6709cb": {
          "model_module": "@jupyter-widgets/base",
          "model_name": "LayoutModel",
          "model_module_version": "1.2.0",
          "state": {
            "_model_module": "@jupyter-widgets/base",
            "_model_module_version": "1.2.0",
            "_model_name": "LayoutModel",
            "_view_count": null,
            "_view_module": "@jupyter-widgets/base",
            "_view_module_version": "1.2.0",
            "_view_name": "LayoutView",
            "align_content": null,
            "align_items": null,
            "align_self": null,
            "border": null,
            "bottom": null,
            "display": null,
            "flex": null,
            "flex_flow": null,
            "grid_area": null,
            "grid_auto_columns": null,
            "grid_auto_flow": null,
            "grid_auto_rows": null,
            "grid_column": null,
            "grid_gap": null,
            "grid_row": null,
            "grid_template_areas": null,
            "grid_template_columns": null,
            "grid_template_rows": null,
            "height": null,
            "justify_content": null,
            "justify_items": null,
            "left": null,
            "margin": null,
            "max_height": null,
            "max_width": null,
            "min_height": null,
            "min_width": null,
            "object_fit": null,
            "object_position": null,
            "order": null,
            "overflow": null,
            "overflow_x": null,
            "overflow_y": null,
            "padding": null,
            "right": null,
            "top": null,
            "visibility": null,
            "width": null
          }
        },
        "c1b5bc7ac2274005bc433f8aaab39965": {
          "model_module": "@jupyter-widgets/controls",
          "model_name": "DescriptionStyleModel",
          "model_module_version": "1.5.0",
          "state": {
            "_model_module": "@jupyter-widgets/controls",
            "_model_module_version": "1.5.0",
            "_model_name": "DescriptionStyleModel",
            "_view_count": null,
            "_view_module": "@jupyter-widgets/base",
            "_view_module_version": "1.2.0",
            "_view_name": "StyleView",
            "description_width": ""
          }
        },
        "f008bd5d0853431d93320056e5d5a364": {
          "model_module": "@jupyter-widgets/base",
          "model_name": "LayoutModel",
          "model_module_version": "1.2.0",
          "state": {
            "_model_module": "@jupyter-widgets/base",
            "_model_module_version": "1.2.0",
            "_model_name": "LayoutModel",
            "_view_count": null,
            "_view_module": "@jupyter-widgets/base",
            "_view_module_version": "1.2.0",
            "_view_name": "LayoutView",
            "align_content": null,
            "align_items": null,
            "align_self": null,
            "border": null,
            "bottom": null,
            "display": null,
            "flex": null,
            "flex_flow": null,
            "grid_area": null,
            "grid_auto_columns": null,
            "grid_auto_flow": null,
            "grid_auto_rows": null,
            "grid_column": null,
            "grid_gap": null,
            "grid_row": null,
            "grid_template_areas": null,
            "grid_template_columns": null,
            "grid_template_rows": null,
            "height": null,
            "justify_content": null,
            "justify_items": null,
            "left": null,
            "margin": null,
            "max_height": null,
            "max_width": null,
            "min_height": null,
            "min_width": null,
            "object_fit": null,
            "object_position": null,
            "order": null,
            "overflow": null,
            "overflow_x": null,
            "overflow_y": null,
            "padding": null,
            "right": null,
            "top": null,
            "visibility": null,
            "width": null
          }
        },
        "25ffd890ec9748eba6bbed6acb81d269": {
          "model_module": "@jupyter-widgets/controls",
          "model_name": "ProgressStyleModel",
          "model_module_version": "1.5.0",
          "state": {
            "_model_module": "@jupyter-widgets/controls",
            "_model_module_version": "1.5.0",
            "_model_name": "ProgressStyleModel",
            "_view_count": null,
            "_view_module": "@jupyter-widgets/base",
            "_view_module_version": "1.2.0",
            "_view_name": "StyleView",
            "bar_color": null,
            "description_width": ""
          }
        },
        "ced3ffd8a80e4fefbfcd758de255424f": {
          "model_module": "@jupyter-widgets/base",
          "model_name": "LayoutModel",
          "model_module_version": "1.2.0",
          "state": {
            "_model_module": "@jupyter-widgets/base",
            "_model_module_version": "1.2.0",
            "_model_name": "LayoutModel",
            "_view_count": null,
            "_view_module": "@jupyter-widgets/base",
            "_view_module_version": "1.2.0",
            "_view_name": "LayoutView",
            "align_content": null,
            "align_items": null,
            "align_self": null,
            "border": null,
            "bottom": null,
            "display": null,
            "flex": null,
            "flex_flow": null,
            "grid_area": null,
            "grid_auto_columns": null,
            "grid_auto_flow": null,
            "grid_auto_rows": null,
            "grid_column": null,
            "grid_gap": null,
            "grid_row": null,
            "grid_template_areas": null,
            "grid_template_columns": null,
            "grid_template_rows": null,
            "height": null,
            "justify_content": null,
            "justify_items": null,
            "left": null,
            "margin": null,
            "max_height": null,
            "max_width": null,
            "min_height": null,
            "min_width": null,
            "object_fit": null,
            "object_position": null,
            "order": null,
            "overflow": null,
            "overflow_x": null,
            "overflow_y": null,
            "padding": null,
            "right": null,
            "top": null,
            "visibility": null,
            "width": null
          }
        },
        "68565720687945e8b902f3633b91a2ce": {
          "model_module": "@jupyter-widgets/controls",
          "model_name": "DescriptionStyleModel",
          "model_module_version": "1.5.0",
          "state": {
            "_model_module": "@jupyter-widgets/controls",
            "_model_module_version": "1.5.0",
            "_model_name": "DescriptionStyleModel",
            "_view_count": null,
            "_view_module": "@jupyter-widgets/base",
            "_view_module_version": "1.2.0",
            "_view_name": "StyleView",
            "description_width": ""
          }
        }
      }
    }
  },
  "nbformat": 4,
  "nbformat_minor": 0
}